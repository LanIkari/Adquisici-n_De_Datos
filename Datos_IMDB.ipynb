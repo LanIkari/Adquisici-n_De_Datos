{
  "nbformat": 4,
  "nbformat_minor": 0,
  "metadata": {
    "colab": {
      "provenance": [],
      "collapsed_sections": [],
      "authorship_tag": "ABX9TyNnlTmJo6Rq8JsUo91KPIww",
      "include_colab_link": true
    },
    "kernelspec": {
      "name": "python3",
      "display_name": "Python 3"
    },
    "language_info": {
      "name": "python"
    }
  },
  "cells": [
    {
      "cell_type": "markdown",
      "metadata": {
        "id": "view-in-github",
        "colab_type": "text"
      },
      "source": [
        "<a href=\"https://colab.research.google.com/github/LanIkari/Adquisicion_De_Datos/blob/main/Datos_IMDB.ipynb\" target=\"_parent\"><img src=\"https://colab.research.google.com/assets/colab-badge.svg\" alt=\"Open In Colab\"/></a>"
      ]
    },
    {
      "cell_type": "code",
      "source": [
        "import requests\n",
        "import urllib.request \n",
        "import time \n",
        "from bs4 import BeautifulSoup \n",
        "\n",
        "import csv\n",
        "from datetime import datetime\n"
      ],
      "metadata": {
        "id": "dI2bLd5EJh5S"
      },
      "execution_count": null,
      "outputs": []
    },
    {
      "cell_type": "code",
      "execution_count": null,
      "metadata": {
        "id": "yx5Ya26yJfuL",
        "colab": {
          "base_uri": "https://localhost:8080/"
        },
        "outputId": "82ea9731-01f7-490e-e07c-d5819fa0740e"
      },
      "outputs": [
        {
          "output_type": "execute_result",
          "data": {
            "text/plain": [
              "200"
            ]
          },
          "metadata": {},
          "execution_count": 11
        }
      ],
      "source": [
        "# Define URL a descargar u hace la peticion HTTP\n",
        "\n",
        "url ='https://www.imdb.com/search/title/?count=100&release_date=2021,2022&title_type=feature%27'\n",
        "response = requests.get(url)\n",
        "response.status_code"
      ]
    },
    {
      "cell_type": "code",
      "source": [
        "# Crear objeto BeutifulSoup para procesar HTML\n",
        "# Solo le decimos que es lo que quiero y como lo quiero\n",
        "soup = BeautifulSoup(response.text, 'html.parser')\n",
        "\n",
        "#Obtener elementos de titulo\n",
        "elementos= soup.findAll('h3', {'class': 'lister-item-header'})\n",
        "\n",
        "#elementos.get_text(separador=',')\n"
      ],
      "metadata": {
        "id": "k2ygnu6JlRLN"
      },
      "execution_count": null,
      "outputs": []
    },
    {
      "cell_type": "code",
      "source": [
        "#Recorrer los elementos de respuesta\n",
        "with open('imdb.csv','a') as archivo_csv: \n",
        "  writer=csv.writer(archivo_csv)\n",
        "  for e in elementos:\n",
        "    #EL titulo de la pelicula esta dentro de un <a>\n",
        "    no= e.find('span',{'class': 'lister-item-index unbold text-primary'}).next\n",
        "    titulo=e.find('a',recursive=False).next\n",
        "    anio=e.find('span',{'class': 'lister-item-year text-muted unbold'}).next\n",
        "    print(no, titulo, anio)\n",
        "    writer=csv.writer(archivo_csv)\n",
        "    writer.writerow([no, titulo, anio])\n",
        "#De esta forma traemos los datos de forma ordenada y limpia\n",
        "  \n",
        "\n"
      ],
      "metadata": {
        "colab": {
          "base_uri": "https://localhost:8080/"
        },
        "id": "tTPgHJTHlaUX",
        "outputId": "852186a5-0cb2-4428-dc71-00e92366406b"
      },
      "execution_count": null,
      "outputs": [
        {
          "output_type": "stream",
          "name": "stdout",
          "text": [
            "1. House of the Dragon (2022– )\n",
            "2. The Lord of the Rings: The Rings of Power (2022– )\n",
            "3. She-Hulk: Attorney at Law (2022– )\n",
            "4. The Sandman (2022– )\n",
            "5. Nope (2022)\n",
            "6. Samaritan (2022)\n",
            "7. Top Gun: Maverick (2022)\n",
            "8. Me Time (2022)\n",
            "9. Echoes (2022)\n",
            "10. Bullet Train (2022)\n",
            "11. Only Murders in the Building (2021– )\n",
            "12. Fall (2022)\n",
            "13. Elvis (2022)\n",
            "14. The Patient (2022)\n",
            "15. Prey (I) (2022)\n",
            "16. I Came By (2022)\n",
            "17. Partner Track (2022– )\n",
            "18. The Invitation (II) (2022)\n",
            "19. Orphan: First Kill (2022)\n",
            "20. Three Thousand Years of Longing (2022)\n",
            "21. Day Shift (2022)\n",
            "22. Weird: The Al Yankovic Story (2022)\n",
            "23. Black Bird (2022)\n",
            "24. Pinocchio (I) (2022)\n",
            "25. Don't Worry Darling (I) (2022)\n",
            "26. Look Both Ways (2022)\n",
            "27. Severance (2022– )\n",
            "28. Beast (I) (2022)\n",
            "29. The Gray Man (2022)\n",
            "30. Where the Crawdads Sing (2022)\n",
            "31. The Black Phone (2021)\n",
            "32. A League of Their Own (2022– )\n",
            "33. DC League of Super-Pets (2022)\n",
            "34. The Bear (2022– )\n",
            "35. Everything Everywhere All at Once (2022)\n",
            "36. Loving Adults (2022)\n",
            "37. Thor: Love and Thunder (2022)\n",
            "38. Thirteen Lives (2022)\n",
            "39. Jurassic World Dominion (2022)\n",
            "40. Mo (2022– )\n",
            "41. X (II) (2022)\n",
            "42. American Horror Stories (2021– )\n",
            "43. The Terminal List (2022– )\n",
            "44. Kleo (2022– )\n",
            "45. The Suspect (2022– )\n",
            "46. Devil in Ohio (2022)\n",
            "47. Wednesday (2022– )\n",
            "48. Bad Sisters (2022– )\n",
            "49. Dragon Ball Super: Super Hero (2022)\n",
            "50. Ridley (2022– )\n",
            "51. Mike (2022)\n",
            "52. The Rehearsal (2022– )\n",
            "53. Love in the Villa (2022)\n",
            "54. Liger (2022)\n",
            "55. Five Days at Memorial (2022)\n",
            "56. Uncharted (2022)\n",
            "57. The Resort (2022– )\n",
            "58. Sing 2 (2021)\n",
            "59. The Batman (2022)\n",
            "60. Little Demon (2022– )\n",
            "61. Spider-Man: No Way Home (2021)\n",
            "62. White Noise (I) (2022)\n",
            "63. Hit: The First Case (2022)\n",
            "64. The Northman (2022)\n",
            "65. The Lost City (2022)\n",
            "66. The Old Man (2022– )\n",
            "67. After Ever Happy (2022)\n",
            "68. Licorice Pizza (2021)\n",
            "69. Blonde (2022)\n",
            "70. Bodies Bodies Bodies (2022)\n",
            "71. Welcome to Wrexham (2022– )\n",
            "72. Purple Hearts (2022)\n",
            "73. Avatar: The Way of Water (2022)\n",
            "74. Honk for Jesus. Save Your Soul. (2022)\n",
            "75. Resident Alien (2021– )\n",
            "76. The Next 365 Days (2022)\n",
            "77. Doctor Strange in the Multiverse of Madness (2022)\n",
            "78. Lightyear (2022)\n",
            "79. That's Amor (2022)\n",
            "80. Tales of the Walking Dead (2022– )\n",
            "81. 1883 (2021–2022)\n",
            "82. Andor (2022– )\n",
            "83. Reservation Dogs (2021– )\n",
            "84. Extraordinary Attorney Woo (2022)\n",
            "85. Sprung (2022– )\n",
            "86. Under the Banner of Heaven (2022)\n",
            "87. Dune (2021)\n",
            "88. Obi-Wan Kenobi (2022)\n",
            "89. Death on the Nile (2022)\n",
            "90. Barbarian (2022)\n",
            "91. Karthikeya 2 (2022)\n",
            "92. Triangle of Sadness (2022)\n",
            "93. The White Lotus (2021–2022)\n",
            "94. RRR (2022)\n",
            "95. Hocus Pocus 2 (2022)\n",
            "96. Minions: The Rise of Gru (2022)\n",
            "97. Vengeance (II) (2022)\n",
            "98. Tár (2022)\n",
            "99. The Offer (2022)\n",
            "100. I Am Groot (2022– )\n"
          ]
        }
      ]
    }
  ]
}