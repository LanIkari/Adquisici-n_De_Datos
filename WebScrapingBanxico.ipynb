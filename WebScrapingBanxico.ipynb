{
  "nbformat": 4,
  "nbformat_minor": 0,
  "metadata": {
    "colab": {
      "provenance": [],
      "authorship_tag": "ABX9TyN3sbMY1r6LZWxsBiFmZeZv",
      "include_colab_link": true
    },
    "kernelspec": {
      "name": "python3",
      "display_name": "Python 3"
    },
    "language_info": {
      "name": "python"
    }
  },
  "cells": [
    {
      "cell_type": "markdown",
      "metadata": {
        "id": "view-in-github",
        "colab_type": "text"
      },
      "source": [
        "<a href=\"https://colab.research.google.com/github/LanIkari/Adquisicion_De_Datos/blob/main/WebScrapingBanxico.ipynb\" target=\"_parent\"><img src=\"https://colab.research.google.com/assets/colab-badge.svg\" alt=\"Open In Colab\"/></a>"
      ]
    },
    {
      "cell_type": "code",
      "execution_count": 10,
      "metadata": {
        "id": "AvHQZs46uKbe"
      },
      "outputs": [],
      "source": [
        "import requests\n",
        "import urllib.request \n",
        "import time \n",
        "from bs4 import BeautifulSoup \n",
        "\n",
        "import csv\n",
        "from datetime import datetime"
      ]
    },
    {
      "cell_type": "code",
      "source": [
        "#Definir la URL y hace la peticion de HTTP\n",
        "url='https://www.banxico.org.mx/tipcamb/tipCamIHAction.do?idioma=sp&fechaInicial=01/09/2022&fechaFinal=05/09/2022&salida=HTML'\n",
        "response= requests.get(url).text\n",
        "soup=BeautifulSoup(response)\n"
      ],
      "metadata": {
        "id": "fHh7_HNcuT59"
      },
      "execution_count": 11,
      "outputs": []
    },
    {
      "cell_type": "code",
      "source": [
        "tabla=soup.find('table')\n",
        "#Tabla"
      ],
      "metadata": {
        "id": "eMxfPcMq8CC2"
      },
      "execution_count": 12,
      "outputs": []
    },
    {
      "cell_type": "code",
      "source": [
        "#import datatime as dt\n",
        "from datetime import timedelta \n",
        "from datetime import timezone\n",
        "diferencia = timedelta(hours=-5)\n",
        "print(diferencia)\n",
        "zonahoraria =timezone(diferencia)\n",
        "print(zonahoraria) \n",
        "print(datetime.now(tz=zonahoraria))\n",
        "nombre_archivo= 'dolar_banxico_' + datetime.now(tz=zonahoraria).strftime(\"%Y%m%d_%H%M%S\") + \".csv\"\n",
        "print(nombre_archivo)\n"
      ],
      "metadata": {
        "colab": {
          "base_uri": "https://localhost:8080/"
        },
        "id": "x7EjThQkAk25",
        "outputId": "72067a25-25a5-4cc1-f874-e63e669781b6"
      },
      "execution_count": 17,
      "outputs": [
        {
          "output_type": "stream",
          "name": "stdout",
          "text": [
            "-1 day, 19:00:00\n",
            "UTC-05:00\n",
            "2022-09-12 14:43:03.104931-05:00\n",
            "dolar_banxico_20220912_144303.csv\n"
          ]
        }
      ]
    },
    {
      "cell_type": "code",
      "source": [
        "tablas = tabla.find_all(\"table\")\n",
        "datos={'fecha':'','determinacion':'', 'publicacion':'', 'obligaciones':''}\n",
        "quitar= \"\\r\\n\\t\"\n",
        "nrenglones=len(tablas[1].find_all(\"tr\"))\n",
        "nrenglones\n",
        "print(\"Numero de renglones\", nrenglones)\n",
        "with open(nombre_archivo, 'a') as archivo_csv:\n",
        "  writer = csv.writer(archivo_csv)\n",
        "  writer.writerow(['fecha','determinacion','publicacion','publicacion'])\n",
        "  for r in range (0, nrenglones):\n",
        "    for t in range(1,5):\n",
        "        renglones=tablas[t].find_all( \"tr\")\n",
        "        renglon=renglones[r]\n",
        "        celda=renglon.find(\"td\")\n",
        "        textocelda=celda.text.rstrip()\n",
        "        for x in range(len(quitar)):\n",
        "          textocelda=textocelda.replace(quitar[x],\"\")\n",
        "        if t==1:\n",
        "          datos['fecha']= textocelda\n",
        "        if t==2:\n",
        "          datos['determinacion']= textocelda\n",
        "        if t==3:\n",
        "          datos['publicacion']= textocelda\n",
        "        if t==4:\n",
        "          datos['obligaciones']= textocelda\n",
        "        print(r, datos)\n",
        "        writer.writerow([datos['fecha'], datos['determinacion'],datos['publicacion'],datos['publicacion']])"
      ],
      "metadata": {
        "colab": {
          "base_uri": "https://localhost:8080/"
        },
        "id": "_OAs1NjZ4EVe",
        "outputId": "e3a29ece-a845-402e-8d1e-4bf447809e83"
      },
      "execution_count": 15,
      "outputs": [
        {
          "output_type": "stream",
          "name": "stdout",
          "text": [
            "Numero de renglones 5\n",
            "0 {'fecha': '05/09/2022', 'determinacion': '', 'publicacion': '', 'obligaciones': ''}\n",
            "0 {'fecha': '05/09/2022', 'determinacion': '19.9620', 'publicacion': '', 'obligaciones': ''}\n",
            "0 {'fecha': '05/09/2022', 'determinacion': '19.9620', 'publicacion': '19.9753', 'obligaciones': ''}\n",
            "0 {'fecha': '05/09/2022', 'determinacion': '19.9620', 'publicacion': '19.9753', 'obligaciones': '20.2473'}\n",
            "1 {'fecha': '04/09/2022', 'determinacion': '19.9620', 'publicacion': '19.9753', 'obligaciones': '20.2473'}\n",
            "1 {'fecha': '04/09/2022', 'determinacion': 'N/E', 'publicacion': '19.9753', 'obligaciones': '20.2473'}\n",
            "1 {'fecha': '04/09/2022', 'determinacion': 'N/E', 'publicacion': 'N/E', 'obligaciones': '20.2473'}\n",
            "1 {'fecha': '04/09/2022', 'determinacion': 'N/E', 'publicacion': 'N/E', 'obligaciones': '20.2473'}\n",
            "2 {'fecha': '03/09/2022', 'determinacion': 'N/E', 'publicacion': 'N/E', 'obligaciones': '20.2473'}\n",
            "2 {'fecha': '03/09/2022', 'determinacion': 'N/E', 'publicacion': 'N/E', 'obligaciones': '20.2473'}\n",
            "2 {'fecha': '03/09/2022', 'determinacion': 'N/E', 'publicacion': 'N/E', 'obligaciones': '20.2473'}\n",
            "2 {'fecha': '03/09/2022', 'determinacion': 'N/E', 'publicacion': 'N/E', 'obligaciones': '20.2473'}\n",
            "3 {'fecha': '02/09/2022', 'determinacion': 'N/E', 'publicacion': 'N/E', 'obligaciones': '20.2473'}\n",
            "3 {'fecha': '02/09/2022', 'determinacion': '19.9753', 'publicacion': 'N/E', 'obligaciones': '20.2473'}\n",
            "3 {'fecha': '02/09/2022', 'determinacion': '19.9753', 'publicacion': '20.2473', 'obligaciones': '20.2473'}\n",
            "3 {'fecha': '02/09/2022', 'determinacion': '19.9753', 'publicacion': '20.2473', 'obligaciones': '20.0962'}\n",
            "4 {'fecha': '01/09/2022', 'determinacion': '19.9753', 'publicacion': '20.2473', 'obligaciones': '20.0962'}\n",
            "4 {'fecha': '01/09/2022', 'determinacion': '20.2473', 'publicacion': '20.2473', 'obligaciones': '20.0962'}\n",
            "4 {'fecha': '01/09/2022', 'determinacion': '20.2473', 'publicacion': '20.0962', 'obligaciones': '20.0962'}\n",
            "4 {'fecha': '01/09/2022', 'determinacion': '20.2473', 'publicacion': '20.0962', 'obligaciones': '20.1465'}\n"
          ]
        }
      ]
    },
    {
      "cell_type": "code",
      "source": [],
      "metadata": {
        "id": "Z232z6kHAdio"
      },
      "execution_count": null,
      "outputs": []
    }
  ]
}